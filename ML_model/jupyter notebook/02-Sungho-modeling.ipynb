{
 "cells": [
  {
   "cell_type": "markdown",
   "id": "c33dd3ea",
   "metadata": {},
   "source": [
    "### 8.일단 어느정도 전처리가 되었습니다. 랜덤 포레스트와 GBM 머신러닝 모델로 학습을 진행하겠습니다.\n",
    "- 학습을 진행 하다가 성능이 좋지 않으면 데이터를 더 확인해서 전처리를 진행하겠습니다."
   ]
  },
  {
   "cell_type": "code",
   "execution_count": 1,
   "id": "eb5ed894",
   "metadata": {},
   "outputs": [],
   "source": [
    "import pandas as pd\n",
    "import joblib\n",
    "\n",
    "from sklearn.model_selection import train_test_split,GridSearchCV\n",
    "from sklearn.ensemble import GradientBoostingClassifier,RandomForestClassifier\n",
    "from sklearn.pipeline import make_pipeline\n",
    "from sklearn.impute import SimpleImputer\n",
    "from sklearn.metrics import accuracy_score\n",
    "from category_encoders import OrdinalEncoder"
   ]
  },
  {
   "cell_type": "code",
   "execution_count": 18,
   "id": "8e5fe7ba",
   "metadata": {},
   "outputs": [
    {
     "data": {
      "text/plain": [
       "Index(['company', 'specific_bean_origin_or_bar_name', 'review_date',\n",
       "       'cocoa_percent', 'company_location', 'rating', 'Bean_Type',\n",
       "       'country_of_bean_origin', 'trinitario_bean', 'criollo_bean',\n",
       "       'blend_bean', 'forastero_bean', 'new_rating'],\n",
       "      dtype='object')"
      ]
     },
     "execution_count": 18,
     "metadata": {},
     "output_type": "execute_result"
    }
   ],
   "source": [
    "url = '/Users/sunghoheo/section6/choco 회사 예측 프로젝트/AI_05_허성호(데이터파일)/preparedata.csv'\n",
    "\n",
    "df = pd.read_csv(url)\n",
    "df.columns"
   ]
  },
  {
   "cell_type": "code",
   "execution_count": 3,
   "id": "6d1958f3",
   "metadata": {},
   "outputs": [],
   "source": [
    "#이제 훈련데이터와 검증데이터로 나누겠습니다.\n",
    "target = ['rating','new_rating']\n",
    "x = df.drop(target, axis=1).copy()\n",
    "y = df['rating']\n",
    "X_train, X_test, y_train, y_test = train_test_split(x, y, shuffle=True,random_state=0)\n",
    "X_train, X_val, y_train, y_val = train_test_split(X_train, y_train, shuffle=True,random_state=0)"
   ]
  },
  {
   "cell_type": "code",
   "execution_count": 4,
   "id": "96918971",
   "metadata": {},
   "outputs": [
    {
     "data": {
      "text/plain": [
       "Pipeline(steps=[('ordinalencoder',\n",
       "                 OrdinalEncoder(cols=['company',\n",
       "                                      'specific_bean_origin_or_bar_name',\n",
       "                                      'company_location', 'Bean_Type',\n",
       "                                      'country_of_bean_origin',\n",
       "                                      'trinitario_bean', 'criollo_bean',\n",
       "                                      'blend_bean', 'forastero_bean'],\n",
       "                                mapping=[{'col': 'company',\n",
       "                                          'data_type': dtype('O'),\n",
       "                                          'mapping': Ambrosia               1\n",
       "Malai                  2\n",
       "Kah Kow                3\n",
       "Christopher Elbow      4\n",
       "The Barn               5\n",
       "                    ... \n",
       "By Cacao             469\n",
       "Feitoria Cac...\n",
       "forastero (arriba) ass      5\n",
       "forastero (arriba)          6\n",
       "forastero (arriba) asss     7\n",
       "forastero, trinitario       8\n",
       "criollo, forastero          9\n",
       "blend-forastero,criollo    10\n",
       "forastero(arriba, ccn)     11\n",
       "forastero (parazinho)      12\n",
       "trinitario, forastero      13\n",
       "forastero (amelonado)      14\n",
       "dtype: int64}])),\n",
       "                ('simpleimputer', SimpleImputer()),\n",
       "                ('gradientboostingclassifier',\n",
       "                 GradientBoostingClassifier(max_depth=7, random_state=2))])"
      ]
     },
     "execution_count": 4,
     "metadata": {},
     "output_type": "execute_result"
    }
   ],
   "source": [
    "#파이프라인 생성\n",
    "gb_pipe = make_pipeline(\n",
    "          OrdinalEncoder(),\n",
    "          SimpleImputer(),#bean_type과 다른 코코아콩 종류에 결측치가 많아서 사용.\n",
    "          GradientBoostingClassifier(n_estimators=100,\n",
    "                                    random_state=2,\n",
    "                                    max_depth=7)\n",
    ")\n",
    "gb_pipe.fit(X_train,y_train)"
   ]
  },
  {
   "cell_type": "code",
   "execution_count": 5,
   "id": "28ce25c8",
   "metadata": {},
   "outputs": [
    {
     "name": "stdout",
     "output_type": "stream",
     "text": [
      "GBM 검증 정확도: 0.7427055702917772\n",
      "GBM 테스트 정확도: 0.7422885572139304\n"
     ]
    }
   ],
   "source": [
    "pred = gb_pipe.predict(X_val)\n",
    "test_pred= gb_pipe.predict(X_test)\n",
    "val_acc = accuracy_score(y_val,pred)\n",
    "test_acc = accuracy_score(y_test,test_pred)\n",
    "print('GBM 검증 정확도:',val_acc)\n",
    "print('GBM 테스트 정확도:',test_acc)"
   ]
  },
  {
   "cell_type": "code",
   "execution_count": 6,
   "id": "03d91e8d",
   "metadata": {},
   "outputs": [
    {
     "name": "stdout",
     "output_type": "stream",
     "text": [
      "랜덤 포레스트 검증 정확도: 0.7015915119363395\n",
      "랜덤 포레스트 테스트 정확도: 0.708457711442786\n"
     ]
    }
   ],
   "source": [
    "random = make_pipeline(\n",
    "         OrdinalEncoder(),\n",
    "         SimpleImputer(),\n",
    "         RandomForestClassifier(n_estimators=100,\n",
    "                                    random_state=2,\n",
    "                                    max_depth=7))\n",
    "random.fit(X_train,y_train)\n",
    "\n",
    "#검증\n",
    "random_pred = random.predict(X_val)\n",
    "random_acc = accuracy_score(y_val,random_pred)\n",
    "#테스트\n",
    "random_test_pred = random.predict(X_test)\n",
    "random_test_acc = accuracy_score(y_test,random_test_pred)\n",
    "\n",
    "print('랜덤 포레스트 검증 정확도:',random_acc)\n",
    "print('랜덤 포레스트 테스트 정확도:',random_test_acc)"
   ]
  },
  {
   "cell_type": "code",
   "execution_count": 7,
   "id": "1391e037",
   "metadata": {},
   "outputs": [],
   "source": [
    "X_train, X_test, y_train, y_test = train_test_split(x, y, shuffle=True,random_state=0)\n",
    "X_train, X_val, y_train, y_val = train_test_split(X_train, y_train, shuffle=True,random_state=0)"
   ]
  },
  {
   "cell_type": "code",
   "execution_count": 8,
   "id": "465f4cf9",
   "metadata": {},
   "outputs": [],
   "source": [
    "#학습전에 ordinal,simpimputer를 통해 데이터를 변환하겠습니다.\n",
    "encoder = OrdinalEncoder()\n",
    "sim = SimpleImputer() \n",
    "#encoder\n",
    "X_train_encoder = encoder.fit_transform(X_train)\n",
    "X_val_encoder = encoder.transform(X_val)\n",
    "X_test_encoder = encoder.transform(X_test)\n",
    "\n",
    "#imputer\n",
    "X_train_imputer = sim.fit_transform(X_train_encoder)\n",
    "X_val_imputer = sim.transform(X_val_encoder)\n",
    "X_test_imputer = sim.transform(X_test_encoder)"
   ]
  },
  {
   "cell_type": "markdown",
   "id": "9f96b083",
   "metadata": {},
   "source": [
    "### 9.간단하게 하이퍼 파라미터 튜닝을 하지않고 모델링을 해보았는데 GBM 과 랜덤포레스트의 테스트데이터를 넣었을때 성능이 생각보다 많이 차이가 납니다.\n",
    "* 이번에는 하이퍼 파라미터 튜닝을 거쳐서 학습을 진행하겠습니다."
   ]
  },
  {
   "cell_type": "code",
   "execution_count": 9,
   "id": "77403ae4",
   "metadata": {},
   "outputs": [
    {
     "name": "stderr",
     "output_type": "stream",
     "text": [
      "/Library/Frameworks/Python.framework/Versions/3.9/lib/python3.9/site-packages/sklearn/model_selection/_split.py:666: UserWarning: The least populated class in y has only 1 members, which is less than n_splits=5.\n",
      "  warnings.warn((\"The least populated class in y has only %d\"\n"
     ]
    },
    {
     "data": {
      "text/plain": [
       "GridSearchCV(estimator=GradientBoostingClassifier(max_depth=10,\n",
       "                                                  random_state=10),\n",
       "             n_jobs=4,\n",
       "             param_grid={'learning_rate': [0.01, 0.05, 0.1],\n",
       "                         'n_estimators': [100, 250, 500]},\n",
       "             scoring='accuracy')"
      ]
     },
     "execution_count": 9,
     "metadata": {},
     "output_type": "execute_result"
    }
   ],
   "source": [
    "#GBM모델 먼저 진행하겠습니다.\n",
    "gbm_hy = {'learning_rate':[0.01,0.05,0.1], 'n_estimators':[100,250,500]}\n",
    "\n",
    "gbm_tuning = GridSearchCV(estimator=GradientBoostingClassifier(max_depth=10, min_samples_split=2, min_samples_leaf=1, random_state=10), \n",
    "            param_grid = gbm_hy, scoring='accuracy',n_jobs=4)\n",
    "\n",
    "gbm_tuning.fit(X_train_imputer,y_train)"
   ]
  },
  {
   "cell_type": "code",
   "execution_count": 10,
   "id": "7aa7f3ab",
   "metadata": {},
   "outputs": [
    {
     "name": "stdout",
     "output_type": "stream",
     "text": [
      "GBM 검증 정확도: 0.7745358090185677\n",
      "GBM 테스트 정확도: 0.7830845771144279\n"
     ]
    }
   ],
   "source": [
    "#검증\n",
    "val_pred = gbm_tuning.predict(X_val_imputer)\n",
    "val_acc2 = accuracy_score(y_val,val_pred)\n",
    "#테스트\n",
    "test_pred= gbm_tuning.predict(X_test_imputer)\n",
    "test_acc2 = accuracy_score(y_test,test_pred)\n",
    "print('GBM 검증 정확도:',val_acc2)\n",
    "print('GBM 테스트 정확도:',test_acc2)#유의미하게 많이 오른듯합니다. 랜덤포레스트에도 적용하겠습니다."
   ]
  },
  {
   "cell_type": "code",
   "execution_count": 11,
   "id": "5aec1de1",
   "metadata": {},
   "outputs": [
    {
     "name": "stderr",
     "output_type": "stream",
     "text": [
      "/Library/Frameworks/Python.framework/Versions/3.9/lib/python3.9/site-packages/sklearn/model_selection/_split.py:666: UserWarning: The least populated class in y has only 1 members, which is less than n_splits=5.\n",
      "  warnings.warn((\"The least populated class in y has only %d\"\n"
     ]
    },
    {
     "data": {
      "text/plain": [
       "GridSearchCV(cv=5, estimator=RandomForestClassifier(random_state=2), n_jobs=-1,\n",
       "             param_grid={'max_depth': [20, 30, 40],\n",
       "                         'max_leaf_nodes': [10, 20, 30],\n",
       "                         'min_samples_leaf': [6, 8, 10],\n",
       "                         'n_estimators': [5, 10, 15, 20, 50, 100]})"
      ]
     },
     "execution_count": 11,
     "metadata": {},
     "output_type": "execute_result"
    }
   ],
   "source": [
    "#랜덤포레스트 GridSearchCV를 통한 하이퍼파라미터 탐색.\n",
    "params = { 'n_estimators' : [5,10,15,20,50,100],\n",
    "           'max_depth' : [20,30,40],\n",
    "           'min_samples_leaf' : [6, 8, 10],\n",
    "            'max_leaf_nodes': [10,20,30]\n",
    "            }\n",
    "\n",
    "\n",
    "# RandomForestClassifier 객체 생성 후 GridSearchCV 수행\n",
    "random_clf = RandomForestClassifier(random_state = 2)\n",
    "random_grid = GridSearchCV(random_clf, param_grid = params, cv = 5, n_jobs = -1)\n",
    "random_grid.fit(X_train_imputer, y_train)"
   ]
  },
  {
   "cell_type": "code",
   "execution_count": 12,
   "id": "dab8fa66",
   "metadata": {},
   "outputs": [
    {
     "name": "stdout",
     "output_type": "stream",
     "text": [
      "최적 하이퍼 파라미터:  {'max_depth': 20, 'max_leaf_nodes': 30, 'min_samples_leaf': 6, 'n_estimators': 50}\n",
      "최고 예측: 0.7327\n"
     ]
    }
   ],
   "source": [
    "print('최적 하이퍼 파라미터: ', random_grid.best_params_)\n",
    "print('최고 예측: {:.4f}'.format(random_grid.best_score_))"
   ]
  },
  {
   "cell_type": "code",
   "execution_count": 13,
   "id": "f6c5b1f2",
   "metadata": {},
   "outputs": [
    {
     "name": "stdout",
     "output_type": "stream",
     "text": [
      "예측 정확도: 0.7095\n"
     ]
    }
   ],
   "source": [
    "#위에서 나온 결과대로 다시학습\n",
    "random_clf1 = RandomForestClassifier(n_estimators = 50, \n",
    "                                max_depth = 20,\n",
    "                                max_leaf_nodes = 30, \n",
    "                                min_samples_split = 6,\n",
    "                                random_state = 2,\n",
    "                                n_jobs = -1)\n",
    "random_clf1.fit(X_train_imputer, y_train)\n",
    "random_test_pred = random_clf1.predict(X_test_imputer)\n",
    "print('예측 정확도: {:.4f}'.format(accuracy_score(y_test,random_test_pred)))"
   ]
  },
  {
   "cell_type": "markdown",
   "id": "b6cc8baa",
   "metadata": {},
   "source": [
    "### 랜덤포레스트의 경우 성능이 오르긴 올랐으나 그다지 유의미한 결과만큼 오르지는 않았습니다.\n",
    "### GBM의 성능이 좋은 성능을 보여주기때문에 최종모델은 GBM으로 하겠습니다."
   ]
  },
  {
   "cell_type": "code",
   "execution_count": 16,
   "id": "b46f5d0c",
   "metadata": {},
   "outputs": [
    {
     "data": {
      "text/plain": [
       "['Chocomodel.joblib']"
      ]
     },
     "execution_count": 16,
     "metadata": {},
     "output_type": "execute_result"
    }
   ],
   "source": [
    "joblib.dump(gbm_tuning, './gbm_model.pkl')"
   ]
  },
  {
   "cell_type": "code",
   "execution_count": null,
   "id": "80363f36",
   "metadata": {},
   "outputs": [],
   "source": []
  }
 ],
 "metadata": {
  "kernelspec": {
   "display_name": "Python 3 (ipykernel)",
   "language": "python",
   "name": "python3"
  },
  "language_info": {
   "codemirror_mode": {
    "name": "ipython",
    "version": 3
   },
   "file_extension": ".py",
   "mimetype": "text/x-python",
   "name": "python",
   "nbconvert_exporter": "python",
   "pygments_lexer": "ipython3",
   "version": "3.9.6"
  }
 },
 "nbformat": 4,
 "nbformat_minor": 5
}
